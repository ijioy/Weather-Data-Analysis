{
 "cells": [
  {
   "cell_type": "markdown",
   "id": "d510c4e6",
   "metadata": {},
   "source": [
    "# Weather Data Analysis\n",
    "## Dataset Cuaca\n",
    "\n",
    "Dataset cuaca adalah sebuah dataset yang berbentuk time-series dengan informasi setiap jam tentang kondisi cuaca di lokasi tertentu. Berisi suhu, suhu titik embun, kelembaban, kecepatan angin, tekanan dan konsidi cuaca"
   ]
  },
  {
   "cell_type": "code",
   "execution_count": 1,
   "id": "de5a0d19",
   "metadata": {},
   "outputs": [],
   "source": [
    "import pandas as pd"
   ]
  },
  {
   "cell_type": "code",
   "execution_count": 2,
   "id": "ad132013",
   "metadata": {},
   "outputs": [
    {
     "ename": "FileNotFoundError",
     "evalue": "[Errno 2] No such file or directory: 'WeatherDataset.csv'",
     "output_type": "error",
     "traceback": [
      "\u001b[1;31m---------------------------------------------------------------------------\u001b[0m",
      "\u001b[1;31mFileNotFoundError\u001b[0m                         Traceback (most recent call last)",
      "\u001b[1;32m<ipython-input-2-466e024b07f3>\u001b[0m in \u001b[0;36m<module>\u001b[1;34m\u001b[0m\n\u001b[1;32m----> 1\u001b[1;33m \u001b[0mdata\u001b[0m \u001b[1;33m=\u001b[0m \u001b[0mpd\u001b[0m\u001b[1;33m.\u001b[0m\u001b[0mread_csv\u001b[0m\u001b[1;33m(\u001b[0m\u001b[1;34m\"WeatherDataset.csv\"\u001b[0m\u001b[1;33m)\u001b[0m\u001b[1;33m\u001b[0m\u001b[1;33m\u001b[0m\u001b[0m\n\u001b[0m",
      "\u001b[1;32m~\\anaconda3\\lib\\site-packages\\pandas\\io\\parsers.py\u001b[0m in \u001b[0;36mread_csv\u001b[1;34m(filepath_or_buffer, sep, delimiter, header, names, index_col, usecols, squeeze, prefix, mangle_dupe_cols, dtype, engine, converters, true_values, false_values, skipinitialspace, skiprows, skipfooter, nrows, na_values, keep_default_na, na_filter, verbose, skip_blank_lines, parse_dates, infer_datetime_format, keep_date_col, date_parser, dayfirst, cache_dates, iterator, chunksize, compression, thousands, decimal, lineterminator, quotechar, quoting, doublequote, escapechar, comment, encoding, dialect, error_bad_lines, warn_bad_lines, delim_whitespace, low_memory, memory_map, float_precision, storage_options)\u001b[0m\n\u001b[0;32m    608\u001b[0m     \u001b[0mkwds\u001b[0m\u001b[1;33m.\u001b[0m\u001b[0mupdate\u001b[0m\u001b[1;33m(\u001b[0m\u001b[0mkwds_defaults\u001b[0m\u001b[1;33m)\u001b[0m\u001b[1;33m\u001b[0m\u001b[1;33m\u001b[0m\u001b[0m\n\u001b[0;32m    609\u001b[0m \u001b[1;33m\u001b[0m\u001b[0m\n\u001b[1;32m--> 610\u001b[1;33m     \u001b[1;32mreturn\u001b[0m \u001b[0m_read\u001b[0m\u001b[1;33m(\u001b[0m\u001b[0mfilepath_or_buffer\u001b[0m\u001b[1;33m,\u001b[0m \u001b[0mkwds\u001b[0m\u001b[1;33m)\u001b[0m\u001b[1;33m\u001b[0m\u001b[1;33m\u001b[0m\u001b[0m\n\u001b[0m\u001b[0;32m    611\u001b[0m \u001b[1;33m\u001b[0m\u001b[0m\n\u001b[0;32m    612\u001b[0m \u001b[1;33m\u001b[0m\u001b[0m\n",
      "\u001b[1;32m~\\anaconda3\\lib\\site-packages\\pandas\\io\\parsers.py\u001b[0m in \u001b[0;36m_read\u001b[1;34m(filepath_or_buffer, kwds)\u001b[0m\n\u001b[0;32m    460\u001b[0m \u001b[1;33m\u001b[0m\u001b[0m\n\u001b[0;32m    461\u001b[0m     \u001b[1;31m# Create the parser.\u001b[0m\u001b[1;33m\u001b[0m\u001b[1;33m\u001b[0m\u001b[1;33m\u001b[0m\u001b[0m\n\u001b[1;32m--> 462\u001b[1;33m     \u001b[0mparser\u001b[0m \u001b[1;33m=\u001b[0m \u001b[0mTextFileReader\u001b[0m\u001b[1;33m(\u001b[0m\u001b[0mfilepath_or_buffer\u001b[0m\u001b[1;33m,\u001b[0m \u001b[1;33m**\u001b[0m\u001b[0mkwds\u001b[0m\u001b[1;33m)\u001b[0m\u001b[1;33m\u001b[0m\u001b[1;33m\u001b[0m\u001b[0m\n\u001b[0m\u001b[0;32m    463\u001b[0m \u001b[1;33m\u001b[0m\u001b[0m\n\u001b[0;32m    464\u001b[0m     \u001b[1;32mif\u001b[0m \u001b[0mchunksize\u001b[0m \u001b[1;32mor\u001b[0m \u001b[0miterator\u001b[0m\u001b[1;33m:\u001b[0m\u001b[1;33m\u001b[0m\u001b[1;33m\u001b[0m\u001b[0m\n",
      "\u001b[1;32m~\\anaconda3\\lib\\site-packages\\pandas\\io\\parsers.py\u001b[0m in \u001b[0;36m__init__\u001b[1;34m(self, f, engine, **kwds)\u001b[0m\n\u001b[0;32m    817\u001b[0m             \u001b[0mself\u001b[0m\u001b[1;33m.\u001b[0m\u001b[0moptions\u001b[0m\u001b[1;33m[\u001b[0m\u001b[1;34m\"has_index_names\"\u001b[0m\u001b[1;33m]\u001b[0m \u001b[1;33m=\u001b[0m \u001b[0mkwds\u001b[0m\u001b[1;33m[\u001b[0m\u001b[1;34m\"has_index_names\"\u001b[0m\u001b[1;33m]\u001b[0m\u001b[1;33m\u001b[0m\u001b[1;33m\u001b[0m\u001b[0m\n\u001b[0;32m    818\u001b[0m \u001b[1;33m\u001b[0m\u001b[0m\n\u001b[1;32m--> 819\u001b[1;33m         \u001b[0mself\u001b[0m\u001b[1;33m.\u001b[0m\u001b[0m_engine\u001b[0m \u001b[1;33m=\u001b[0m \u001b[0mself\u001b[0m\u001b[1;33m.\u001b[0m\u001b[0m_make_engine\u001b[0m\u001b[1;33m(\u001b[0m\u001b[0mself\u001b[0m\u001b[1;33m.\u001b[0m\u001b[0mengine\u001b[0m\u001b[1;33m)\u001b[0m\u001b[1;33m\u001b[0m\u001b[1;33m\u001b[0m\u001b[0m\n\u001b[0m\u001b[0;32m    820\u001b[0m \u001b[1;33m\u001b[0m\u001b[0m\n\u001b[0;32m    821\u001b[0m     \u001b[1;32mdef\u001b[0m \u001b[0mclose\u001b[0m\u001b[1;33m(\u001b[0m\u001b[0mself\u001b[0m\u001b[1;33m)\u001b[0m\u001b[1;33m:\u001b[0m\u001b[1;33m\u001b[0m\u001b[1;33m\u001b[0m\u001b[0m\n",
      "\u001b[1;32m~\\anaconda3\\lib\\site-packages\\pandas\\io\\parsers.py\u001b[0m in \u001b[0;36m_make_engine\u001b[1;34m(self, engine)\u001b[0m\n\u001b[0;32m   1048\u001b[0m             )\n\u001b[0;32m   1049\u001b[0m         \u001b[1;31m# error: Too many arguments for \"ParserBase\"\u001b[0m\u001b[1;33m\u001b[0m\u001b[1;33m\u001b[0m\u001b[1;33m\u001b[0m\u001b[0m\n\u001b[1;32m-> 1050\u001b[1;33m         \u001b[1;32mreturn\u001b[0m \u001b[0mmapping\u001b[0m\u001b[1;33m[\u001b[0m\u001b[0mengine\u001b[0m\u001b[1;33m]\u001b[0m\u001b[1;33m(\u001b[0m\u001b[0mself\u001b[0m\u001b[1;33m.\u001b[0m\u001b[0mf\u001b[0m\u001b[1;33m,\u001b[0m \u001b[1;33m**\u001b[0m\u001b[0mself\u001b[0m\u001b[1;33m.\u001b[0m\u001b[0moptions\u001b[0m\u001b[1;33m)\u001b[0m  \u001b[1;31m# type: ignore[call-arg]\u001b[0m\u001b[1;33m\u001b[0m\u001b[1;33m\u001b[0m\u001b[0m\n\u001b[0m\u001b[0;32m   1051\u001b[0m \u001b[1;33m\u001b[0m\u001b[0m\n\u001b[0;32m   1052\u001b[0m     \u001b[1;32mdef\u001b[0m \u001b[0m_failover_to_python\u001b[0m\u001b[1;33m(\u001b[0m\u001b[0mself\u001b[0m\u001b[1;33m)\u001b[0m\u001b[1;33m:\u001b[0m\u001b[1;33m\u001b[0m\u001b[1;33m\u001b[0m\u001b[0m\n",
      "\u001b[1;32m~\\anaconda3\\lib\\site-packages\\pandas\\io\\parsers.py\u001b[0m in \u001b[0;36m__init__\u001b[1;34m(self, src, **kwds)\u001b[0m\n\u001b[0;32m   1865\u001b[0m \u001b[1;33m\u001b[0m\u001b[0m\n\u001b[0;32m   1866\u001b[0m         \u001b[1;31m# open handles\u001b[0m\u001b[1;33m\u001b[0m\u001b[1;33m\u001b[0m\u001b[1;33m\u001b[0m\u001b[0m\n\u001b[1;32m-> 1867\u001b[1;33m         \u001b[0mself\u001b[0m\u001b[1;33m.\u001b[0m\u001b[0m_open_handles\u001b[0m\u001b[1;33m(\u001b[0m\u001b[0msrc\u001b[0m\u001b[1;33m,\u001b[0m \u001b[0mkwds\u001b[0m\u001b[1;33m)\u001b[0m\u001b[1;33m\u001b[0m\u001b[1;33m\u001b[0m\u001b[0m\n\u001b[0m\u001b[0;32m   1868\u001b[0m         \u001b[1;32massert\u001b[0m \u001b[0mself\u001b[0m\u001b[1;33m.\u001b[0m\u001b[0mhandles\u001b[0m \u001b[1;32mis\u001b[0m \u001b[1;32mnot\u001b[0m \u001b[1;32mNone\u001b[0m\u001b[1;33m\u001b[0m\u001b[1;33m\u001b[0m\u001b[0m\n\u001b[0;32m   1869\u001b[0m         \u001b[1;32mfor\u001b[0m \u001b[0mkey\u001b[0m \u001b[1;32min\u001b[0m \u001b[1;33m(\u001b[0m\u001b[1;34m\"storage_options\"\u001b[0m\u001b[1;33m,\u001b[0m \u001b[1;34m\"encoding\"\u001b[0m\u001b[1;33m,\u001b[0m \u001b[1;34m\"memory_map\"\u001b[0m\u001b[1;33m,\u001b[0m \u001b[1;34m\"compression\"\u001b[0m\u001b[1;33m)\u001b[0m\u001b[1;33m:\u001b[0m\u001b[1;33m\u001b[0m\u001b[1;33m\u001b[0m\u001b[0m\n",
      "\u001b[1;32m~\\anaconda3\\lib\\site-packages\\pandas\\io\\parsers.py\u001b[0m in \u001b[0;36m_open_handles\u001b[1;34m(self, src, kwds)\u001b[0m\n\u001b[0;32m   1360\u001b[0m         \u001b[0mLet\u001b[0m \u001b[0mthe\u001b[0m \u001b[0mreaders\u001b[0m \u001b[0mopen\u001b[0m \u001b[0mIOHanldes\u001b[0m \u001b[0mafter\u001b[0m \u001b[0mthey\u001b[0m \u001b[0mare\u001b[0m \u001b[0mdone\u001b[0m \u001b[1;32mwith\u001b[0m \u001b[0mtheir\u001b[0m \u001b[0mpotential\u001b[0m \u001b[0mraises\u001b[0m\u001b[1;33m.\u001b[0m\u001b[1;33m\u001b[0m\u001b[1;33m\u001b[0m\u001b[0m\n\u001b[0;32m   1361\u001b[0m         \"\"\"\n\u001b[1;32m-> 1362\u001b[1;33m         self.handles = get_handle(\n\u001b[0m\u001b[0;32m   1363\u001b[0m             \u001b[0msrc\u001b[0m\u001b[1;33m,\u001b[0m\u001b[1;33m\u001b[0m\u001b[1;33m\u001b[0m\u001b[0m\n\u001b[0;32m   1364\u001b[0m             \u001b[1;34m\"r\"\u001b[0m\u001b[1;33m,\u001b[0m\u001b[1;33m\u001b[0m\u001b[1;33m\u001b[0m\u001b[0m\n",
      "\u001b[1;32m~\\anaconda3\\lib\\site-packages\\pandas\\io\\common.py\u001b[0m in \u001b[0;36mget_handle\u001b[1;34m(path_or_buf, mode, encoding, compression, memory_map, is_text, errors, storage_options)\u001b[0m\n\u001b[0;32m    640\u001b[0m                 \u001b[0merrors\u001b[0m \u001b[1;33m=\u001b[0m \u001b[1;34m\"replace\"\u001b[0m\u001b[1;33m\u001b[0m\u001b[1;33m\u001b[0m\u001b[0m\n\u001b[0;32m    641\u001b[0m             \u001b[1;31m# Encoding\u001b[0m\u001b[1;33m\u001b[0m\u001b[1;33m\u001b[0m\u001b[1;33m\u001b[0m\u001b[0m\n\u001b[1;32m--> 642\u001b[1;33m             handle = open(\n\u001b[0m\u001b[0;32m    643\u001b[0m                 \u001b[0mhandle\u001b[0m\u001b[1;33m,\u001b[0m\u001b[1;33m\u001b[0m\u001b[1;33m\u001b[0m\u001b[0m\n\u001b[0;32m    644\u001b[0m                 \u001b[0mioargs\u001b[0m\u001b[1;33m.\u001b[0m\u001b[0mmode\u001b[0m\u001b[1;33m,\u001b[0m\u001b[1;33m\u001b[0m\u001b[1;33m\u001b[0m\u001b[0m\n",
      "\u001b[1;31mFileNotFoundError\u001b[0m: [Errno 2] No such file or directory: 'WeatherDataset.csv'"
     ]
    }
   ],
   "source": [
    "data = pd.read_csv(\"WeatherDataset.csv\")"
   ]
  },
  {
   "cell_type": "markdown",
   "id": "217bf630",
   "metadata": {},
   "source": [
    "## Menganalisis DataFrames\n",
    "\n",
    "#### .head()\n",
    "Menampilkan baris N pertama pada data (N bawaan N=5)"
   ]
  },
  {
   "cell_type": "code",
   "execution_count": null,
   "id": "0f278c10",
   "metadata": {},
   "outputs": [],
   "source": [
    "data.head()"
   ]
  },
  {
   "cell_type": "markdown",
   "id": "50b5ea54",
   "metadata": {},
   "source": [
    "### .shape\n",
    "Menampilkan semua total baris dan kolom dari dataframe\n"
   ]
  },
  {
   "cell_type": "code",
   "execution_count": null,
   "id": "c2638596",
   "metadata": {},
   "outputs": [],
   "source": [
    "data.shape"
   ]
  },
  {
   "cell_type": "markdown",
   "id": "4da15d7e",
   "metadata": {},
   "source": [
    "### . index\n",
    "atribut ini menyediakan indeks kerangka data\n"
   ]
  },
  {
   "cell_type": "code",
   "execution_count": null,
   "id": "671c60a2",
   "metadata": {},
   "outputs": [],
   "source": [
    "data.index"
   ]
  },
  {
   "cell_type": "markdown",
   "id": "d4272504",
   "metadata": {},
   "source": [
    "### . columns\n",
    "Menampilkan nama dari setiap setiap kolom"
   ]
  },
  {
   "cell_type": "code",
   "execution_count": null,
   "id": "9d90a191",
   "metadata": {},
   "outputs": [],
   "source": [
    "data.columns"
   ]
  },
  {
   "cell_type": "markdown",
   "id": "49a42446",
   "metadata": {},
   "source": [
    "### .dtypes\n",
    "Menampilkan tipe data setiap kolom"
   ]
  },
  {
   "cell_type": "code",
   "execution_count": null,
   "id": "fb48fd66",
   "metadata": {},
   "outputs": [],
   "source": [
    "data.dtypes"
   ]
  },
  {
   "cell_type": "markdown",
   "id": "0fea4612",
   "metadata": {},
   "source": [
    "### .unique()\n",
    "Digunakan dalam satu kolom. Menampilkan unique value. Hanya bisa digunakan dalam 1 kolom, tidak semua dataframe."
   ]
  },
  {
   "cell_type": "code",
   "execution_count": null,
   "id": "8927676b",
   "metadata": {},
   "outputs": [],
   "source": [
    "data['Weather'].unique()"
   ]
  },
  {
   "cell_type": "markdown",
   "id": "4efdfd89",
   "metadata": {},
   "source": [
    "### .nunique()\n",
    "Menampilkan jumlah total unique value dari setiap kolom dan digunakan untuk satu kolom saja"
   ]
  },
  {
   "cell_type": "code",
   "execution_count": null,
   "id": "426941bc",
   "metadata": {},
   "outputs": [],
   "source": [
    "data.nunique()"
   ]
  },
  {
   "cell_type": "markdown",
   "id": "8c5d823d",
   "metadata": {},
   "source": [
    "### .count()\n",
    "Menampilkan jumlah total non-null values dari setiap kolom tetapi bisa digunakan untuk semua dataframe"
   ]
  },
  {
   "cell_type": "code",
   "execution_count": null,
   "id": "38a52933",
   "metadata": {},
   "outputs": [],
   "source": [
    "data.count()"
   ]
  },
  {
   "cell_type": "markdown",
   "id": "80decbb0",
   "metadata": {},
   "source": [
    "### .value_counts()\n",
    "menampilkan unique values dan jumlah total dari unique value tersebut"
   ]
  },
  {
   "cell_type": "code",
   "execution_count": null,
   "id": "0173ad97",
   "metadata": {},
   "outputs": [],
   "source": [
    "data['Weather'].value_counts()"
   ]
  },
  {
   "cell_type": "markdown",
   "id": "7acd6b78",
   "metadata": {},
   "source": [
    "### .info()\n",
    "Menampilkan basic info dari dataframe"
   ]
  },
  {
   "cell_type": "code",
   "execution_count": null,
   "id": "e9217a68",
   "metadata": {},
   "outputs": [],
   "source": [
    "data.info()"
   ]
  },
  {
   "cell_type": "markdown",
   "id": "30daa478",
   "metadata": {},
   "source": [
    "## Menampilkan semua unique values dari kolom \"Wind Speed\""
   ]
  },
  {
   "cell_type": "code",
   "execution_count": null,
   "id": "1141f605",
   "metadata": {},
   "outputs": [],
   "source": [
    "data.head(2)"
   ]
  },
  {
   "cell_type": "code",
   "execution_count": null,
   "id": "b3c5f844",
   "metadata": {},
   "outputs": [],
   "source": [
    "data['Wind Speed_km/h'].nunique()"
   ]
  },
  {
   "cell_type": "code",
   "execution_count": null,
   "id": "60a7d0af",
   "metadata": {},
   "outputs": [],
   "source": [
    "data['Wind Speed_km/h'].unique()"
   ]
  },
  {
   "cell_type": "markdown",
   "id": "b84b2073",
   "metadata": {},
   "source": [
    "## Mencari jumlah total ketika \"Weather is Clear\""
   ]
  },
  {
   "cell_type": "code",
   "execution_count": null,
   "id": "6ebd42a9",
   "metadata": {},
   "outputs": [],
   "source": [
    "# value_counts()\n",
    "# data.head(2)\n",
    "data.Weather.value_counts()"
   ]
  },
  {
   "cell_type": "code",
   "execution_count": null,
   "id": "2bf30da8",
   "metadata": {},
   "outputs": [],
   "source": [
    "# filtering\n",
    "# data.head(2)\n",
    "data[data.Weather == 'Clear']"
   ]
  },
  {
   "cell_type": "code",
   "execution_count": null,
   "id": "039d2375",
   "metadata": {},
   "outputs": [],
   "source": [
    "#groupby\n",
    "#data.head(2)\n",
    "data.groupby('Weather').get_group('Clear')"
   ]
  },
  {
   "cell_type": "markdown",
   "id": "8b12c63a",
   "metadata": {},
   "source": [
    "## Mencari jumlah total ketika \"Wind Speed_km/h\tadalah 4 km/h\""
   ]
  },
  {
   "cell_type": "code",
   "execution_count": null,
   "id": "7ce6c735",
   "metadata": {},
   "outputs": [],
   "source": [
    "#data.head(2)\n",
    "data[data['Wind Speed_km/h'] == 4 ]"
   ]
  },
  {
   "cell_type": "markdown",
   "id": "561fb31c",
   "metadata": {},
   "source": [
    "## Menampilkan Null Values dalam data"
   ]
  },
  {
   "cell_type": "code",
   "execution_count": null,
   "id": "87a0486e",
   "metadata": {},
   "outputs": [],
   "source": [
    "data.isnull().sum()"
   ]
  },
  {
   "cell_type": "code",
   "execution_count": null,
   "id": "eac3ed27",
   "metadata": {},
   "outputs": [],
   "source": [
    "data.notnull().sum()"
   ]
  },
  {
   "cell_type": "markdown",
   "id": "0b5ab024",
   "metadata": {},
   "source": [
    "## Rename nama kolom 'Weather' menjadi 'Weather Condition'"
   ]
  },
  {
   "cell_type": "code",
   "execution_count": null,
   "id": "af761ecf",
   "metadata": {},
   "outputs": [],
   "source": [
    "#data.head(2)\n",
    "data.rename(columns = {'Weather' : 'Weather Condition'}, inplace = True)\n",
    "# inplace = True digunakan untuk membuat perubahan nama kolom untuk bisa \n",
    "#                digunakan setiap data dipanggil lagi\n",
    "data.head(2)"
   ]
  },
  {
   "cell_type": "markdown",
   "id": "12e9cbae",
   "metadata": {},
   "source": [
    "## Menghitung rata-rata \"Visibility_km\""
   ]
  },
  {
   "cell_type": "code",
   "execution_count": null,
   "id": "8b7e4ffa",
   "metadata": {},
   "outputs": [],
   "source": [
    "#data.head(2)\n",
    "data.Visibility_km.mean()"
   ]
  },
  {
   "cell_type": "markdown",
   "id": "9abe0c0d",
   "metadata": {},
   "source": [
    "## Menghitung Standar Deviasi dari \"Preasure\" dari dataset Weather"
   ]
  },
  {
   "cell_type": "code",
   "execution_count": null,
   "id": "b323965f",
   "metadata": {},
   "outputs": [],
   "source": [
    "#data.head(2)\n",
    "data.Press_kPa.std()"
   ]
  },
  {
   "cell_type": "markdown",
   "id": "0d7a1e9c",
   "metadata": {},
   "source": [
    "## Menghitung Varian dari \"Relative Humidity\" dari dataset Weather"
   ]
  },
  {
   "cell_type": "code",
   "execution_count": null,
   "id": "719aa856",
   "metadata": {},
   "outputs": [],
   "source": [
    "data['Rel Hum_%'].var()"
   ]
  },
  {
   "cell_type": "markdown",
   "id": "5b3c25c3",
   "metadata": {},
   "source": [
    "## Mencari ketika \"Snow\" terekam"
   ]
  },
  {
   "cell_type": "code",
   "execution_count": null,
   "id": "27c6c908",
   "metadata": {},
   "outputs": [],
   "source": [
    "#value_counts()\n",
    "data['Weather Condition'].value_counts()"
   ]
  },
  {
   "cell_type": "code",
   "execution_count": null,
   "id": "98107874",
   "metadata": {
    "scrolled": false
   },
   "outputs": [],
   "source": [
    "#filtering\n",
    "data[data['Weather Condition'] == 'Snow']"
   ]
  },
  {
   "cell_type": "code",
   "execution_count": null,
   "id": "728d341e",
   "metadata": {},
   "outputs": [],
   "source": [
    "# str.contains\n",
    "data[data['Weather Condition'].str.contains('Snow')]"
   ]
  },
  {
   "cell_type": "markdown",
   "id": "9f5ed63d",
   "metadata": {},
   "source": [
    "## Mencari data ketika 'Wind Speed_km/h diatas 24' dan 'Visibility_km adalah 25'"
   ]
  },
  {
   "cell_type": "code",
   "execution_count": null,
   "id": "7e6b7647",
   "metadata": {},
   "outputs": [],
   "source": [
    "#data.head(2)\n",
    "data[(data['Wind Speed_km/h'] > 24) & (data['Visibility_km'] == 25)]"
   ]
  },
  {
   "cell_type": "markdown",
   "id": "39542b8a",
   "metadata": {},
   "source": [
    "## Mencari nilai rata-rata berdasarkan \"Weather Condition\" unique values"
   ]
  },
  {
   "cell_type": "code",
   "execution_count": null,
   "id": "f08f1cdf",
   "metadata": {},
   "outputs": [],
   "source": [
    "data.groupby(\"Weather Condition\").mean()"
   ]
  },
  {
   "cell_type": "markdown",
   "id": "d2a95665",
   "metadata": {},
   "source": [
    "## Mencari nilai maximum n minimum berdasarkan \"Weather Condition\" unique values"
   ]
  },
  {
   "cell_type": "code",
   "execution_count": null,
   "id": "99011416",
   "metadata": {},
   "outputs": [],
   "source": [
    "data.groupby('Weather Condition').min()"
   ]
  },
  {
   "cell_type": "code",
   "execution_count": null,
   "id": "2bf159f8",
   "metadata": {
    "scrolled": false
   },
   "outputs": [],
   "source": [
    "data.groupby('Weather Condition').max()"
   ]
  },
  {
   "cell_type": "markdown",
   "id": "da58510a",
   "metadata": {},
   "source": [
    "## Menampilkan semua data ketika \"Weather Condition  adalah Fog\""
   ]
  },
  {
   "cell_type": "code",
   "execution_count": null,
   "id": "2f61b300",
   "metadata": {},
   "outputs": [],
   "source": [
    "data[data['Weather Condition'] == 'Fog']"
   ]
  },
  {
   "cell_type": "markdown",
   "id": "306d6a90",
   "metadata": {},
   "source": [
    "## Mencari semua data ketika 'Weather Condtion adalah Clear' atau 'Visibility diatas 40'"
   ]
  },
  {
   "cell_type": "code",
   "execution_count": null,
   "id": "5ef81749",
   "metadata": {},
   "outputs": [],
   "source": [
    "data[(data['Weather Condition'] == 'Clear') | (data['Visibility_km'] > 40)]"
   ]
  },
  {
   "cell_type": "markdown",
   "id": "0b261e7f",
   "metadata": {},
   "source": [
    "## Mencari semua data ketika\n",
    "##### ' Weather adalah Clear' dan 'Relative Humidity adalah lebih dari 50'\n",
    "    or\n",
    "##### 'Visibility diatas 40'"
   ]
  },
  {
   "cell_type": "code",
   "execution_count": null,
   "id": "3f8b77c2",
   "metadata": {},
   "outputs": [],
   "source": [
    "data[(data['Weather Condition'] == 'Clear') & (data['Rel Hum_%'] > 50) | (data['Visibility_km'] > 40)]"
   ]
  },
  {
   "cell_type": "code",
   "execution_count": null,
   "id": "9e74b8b0",
   "metadata": {},
   "outputs": [],
   "source": []
  }
 ],
 "metadata": {
  "kernelspec": {
   "display_name": "Python 3",
   "language": "python",
   "name": "python3"
  },
  "language_info": {
   "codemirror_mode": {
    "name": "ipython",
    "version": 3
   },
   "file_extension": ".py",
   "mimetype": "text/x-python",
   "name": "python",
   "nbconvert_exporter": "python",
   "pygments_lexer": "ipython3",
   "version": "3.8.8"
  }
 },
 "nbformat": 4,
 "nbformat_minor": 5
}
